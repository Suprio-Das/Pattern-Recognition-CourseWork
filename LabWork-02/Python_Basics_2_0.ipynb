{
  "nbformat": 4,
  "nbformat_minor": 0,
  "metadata": {
    "colab": {
      "provenance": []
    },
    "kernelspec": {
      "name": "python3",
      "display_name": "Python 3"
    },
    "language_info": {
      "name": "python"
    }
  },
  "cells": [
    {
      "cell_type": "code",
      "execution_count": 1,
      "metadata": {
        "id": "tyRdSj5OU5hI"
      },
      "outputs": [],
      "source": [
        "subjects = ['Pattern Recongnition', 'Web Technology', 'Compiler', 'Mathematics and Probabilistics Analysis']"
      ]
    },
    {
      "cell_type": "code",
      "source": [
        "subjects"
      ],
      "metadata": {
        "colab": {
          "base_uri": "https://localhost:8080/"
        },
        "id": "aVrzN96DVMPC",
        "outputId": "ebdb3f10-3931-434b-9294-fc58835aa02a"
      },
      "execution_count": 2,
      "outputs": [
        {
          "output_type": "execute_result",
          "data": {
            "text/plain": [
              "['Pattern Recongnition',\n",
              " 'Web Technology',\n",
              " 'Compiler',\n",
              " 'Mathematics and Probabilistics Analysis']"
            ]
          },
          "metadata": {},
          "execution_count": 2
        }
      ]
    },
    {
      "cell_type": "code",
      "source": [
        "subjects[0]"
      ],
      "metadata": {
        "colab": {
          "base_uri": "https://localhost:8080/",
          "height": 35
        },
        "id": "5Ej2vbFYVN4P",
        "outputId": "9403e3ba-2b6e-48a4-b122-bfd7f2bb1403"
      },
      "execution_count": 4,
      "outputs": [
        {
          "output_type": "execute_result",
          "data": {
            "text/plain": [
              "'Pattern Recongnition'"
            ],
            "application/vnd.google.colaboratory.intrinsic+json": {
              "type": "string"
            }
          },
          "metadata": {},
          "execution_count": 4
        }
      ]
    },
    {
      "cell_type": "code",
      "source": [
        "subjects[-1]"
      ],
      "metadata": {
        "colab": {
          "base_uri": "https://localhost:8080/",
          "height": 35
        },
        "id": "e614T9AfVUYH",
        "outputId": "cc9bcf62-533b-435c-c858-a6755a492793"
      },
      "execution_count": 5,
      "outputs": [
        {
          "output_type": "execute_result",
          "data": {
            "text/plain": [
              "'Mathematics and Probabilistics Analysis'"
            ],
            "application/vnd.google.colaboratory.intrinsic+json": {
              "type": "string"
            }
          },
          "metadata": {},
          "execution_count": 5
        }
      ]
    },
    {
      "cell_type": "code",
      "source": [
        "sliceds = subjects[0:2]\n",
        "sliceds"
      ],
      "metadata": {
        "colab": {
          "base_uri": "https://localhost:8080/"
        },
        "id": "3Y-0RDHPVWUw",
        "outputId": "1955ca82-40fa-4bd9-acee-996d62c10378"
      },
      "execution_count": 7,
      "outputs": [
        {
          "output_type": "execute_result",
          "data": {
            "text/plain": [
              "['Pattern Recongnition', 'Web Technology']"
            ]
          },
          "metadata": {},
          "execution_count": 7
        }
      ]
    },
    {
      "cell_type": "code",
      "source": [
        "subjects.append('Artificial Intelligence')\n",
        "subjects"
      ],
      "metadata": {
        "colab": {
          "base_uri": "https://localhost:8080/"
        },
        "id": "uYz-_Pl3ViKN",
        "outputId": "0ea42d52-2af3-4138-9eef-68db6fc83218"
      },
      "execution_count": 8,
      "outputs": [
        {
          "output_type": "execute_result",
          "data": {
            "text/plain": [
              "['Pattern Recongnition',\n",
              " 'Web Technology',\n",
              " 'Compiler',\n",
              " 'Mathematics and Probabilistics Analysis',\n",
              " 'Artificial Intelligence']"
            ]
          },
          "metadata": {},
          "execution_count": 8
        }
      ]
    },
    {
      "cell_type": "code",
      "source": [
        "skills_tuples = ('HTML', 'CSS', 'Javascript', 'React', 'Node JS', 'Express JS', 'MongoDB')"
      ],
      "metadata": {
        "id": "m5JoKvqSVovs"
      },
      "execution_count": 9,
      "outputs": []
    },
    {
      "cell_type": "code",
      "source": [
        "skills_tuples"
      ],
      "metadata": {
        "colab": {
          "base_uri": "https://localhost:8080/"
        },
        "id": "InHK8tpIV3NH",
        "outputId": "3f0a3f0a-ddee-4258-9f9d-af3ed719f938"
      },
      "execution_count": 10,
      "outputs": [
        {
          "output_type": "execute_result",
          "data": {
            "text/plain": [
              "('HTML', 'CSS', 'Javascript', 'React', 'Node JS', 'Express JS', 'MongoDB')"
            ]
          },
          "metadata": {},
          "execution_count": 10
        }
      ]
    },
    {
      "cell_type": "code",
      "source": [
        "for x in skills_tuples:\n",
        "    print(x)"
      ],
      "metadata": {
        "colab": {
          "base_uri": "https://localhost:8080/"
        },
        "id": "TMoBLaIFV7Ce",
        "outputId": "6b4ea1c5-c0f4-4d76-e341-01cfe24f2a1d"
      },
      "execution_count": 11,
      "outputs": [
        {
          "output_type": "stream",
          "name": "stdout",
          "text": [
            "HTML\n",
            "CSS\n",
            "Javascript\n",
            "React\n",
            "Node JS\n",
            "Express JS\n",
            "MongoDB\n"
          ]
        }
      ]
    },
    {
      "cell_type": "code",
      "source": [
        "profile_dict = {\n",
        "    \"Name\" : \"Suprio Das\",\n",
        "    \"Age\" : 23,\n",
        "    \"Skills\" : skills_tuples,\n",
        "    \"Subjects\" : subjects\n",
        "}"
      ],
      "metadata": {
        "id": "4QulY-buV_hV"
      },
      "execution_count": 12,
      "outputs": []
    },
    {
      "cell_type": "code",
      "source": [
        "profile_dict"
      ],
      "metadata": {
        "colab": {
          "base_uri": "https://localhost:8080/"
        },
        "id": "_cocDBb-WIGx",
        "outputId": "1abedb45-a35b-4a47-b77f-92936ded4b3f"
      },
      "execution_count": 13,
      "outputs": [
        {
          "output_type": "execute_result",
          "data": {
            "text/plain": [
              "{'Name': 'Suprio Das',\n",
              " 'Age': 23,\n",
              " 'Skills': ('HTML',\n",
              "  'CSS',\n",
              "  'Javascript',\n",
              "  'React',\n",
              "  'Node JS',\n",
              "  'Express JS',\n",
              "  'MongoDB'),\n",
              " 'Subjects': ['Pattern Recongnition',\n",
              "  'Web Technology',\n",
              "  'Compiler',\n",
              "  'Mathematics and Probabilistics Analysis',\n",
              "  'Artificial Intelligence']}"
            ]
          },
          "metadata": {},
          "execution_count": 13
        }
      ]
    },
    {
      "cell_type": "code",
      "source": [
        "print(profile_dict['Name'])\n",
        "print(profile_dict['Age'])\n",
        "print(\"Skills: \")\n",
        "for x in profile_dict['Skills']:\n",
        "    print(x)"
      ],
      "metadata": {
        "colab": {
          "base_uri": "https://localhost:8080/"
        },
        "id": "LCXmoKAbWRrR",
        "outputId": "5eb14ae8-82f8-4eeb-ee60-95ae05b4f749"
      },
      "execution_count": 21,
      "outputs": [
        {
          "output_type": "stream",
          "name": "stdout",
          "text": [
            "Suprio Das\n",
            "23\n",
            "Skills: \n",
            "HTML\n",
            "CSS\n",
            "Javascript\n",
            "React\n",
            "Node JS\n",
            "Express JS\n",
            "MongoDB\n"
          ]
        }
      ]
    }
  ]
}